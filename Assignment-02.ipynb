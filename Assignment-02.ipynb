{
 "cells": [
  {
   "cell_type": "raw",
   "id": "0550f8d5",
   "metadata": {},
   "source": [
    "Name: Ziana Jesin Bhuiyan\n",
    "Student ID: 21301324\n",
    "Section: 10\n",
    "CSE Department, Brac University"
   ]
  },
  {
   "cell_type": "code",
   "execution_count": 28,
   "id": "b75d640f",
   "metadata": {},
   "outputs": [
    {
     "name": "stdout",
     "output_type": "stream",
     "text": [
      "Enter the first number : 5\n",
      "Enter the second number : 2\n"
     ]
    },
    {
     "data": {
      "text/plain": [
       "0.5"
      ]
     },
     "execution_count": 28,
     "metadata": {},
     "output_type": "execute_result"
    }
   ],
   "source": [
    "#TASK_1\n",
    "\n",
    "def function(i, j):\n",
    "    exception = 0\n",
    "    \n",
    "    if (i == 0 or j == 0):\n",
    "        return exception\n",
    "    else:\n",
    "        division = i/j\n",
    "        floor_division = i//j\n",
    "        fraction = division - floor_division\n",
    "        return fraction\n",
    "    \n",
    "i = int(input('Enter the first number : '))\n",
    "j = int(input('Enter the second number : '))\n",
    "    \n",
    "function(i, j)"
   ]
  },
  {
   "cell_type": "code",
   "execution_count": 27,
   "id": "d631f5e6",
   "metadata": {},
   "outputs": [
    {
     "name": "stdout",
     "output_type": "stream",
     "text": [
      "Enter your height in cm: 152\n",
      "Enter your weight in kg: 48\n",
      "Score is 20.775623268698062. You are Normal.\n"
     ]
    }
   ],
   "source": [
    "#TASK_2\n",
    "\n",
    "\n",
    "def BMI(height, weight):\n",
    "    output = ' '\n",
    "\n",
    "    height_meter = height / 100\n",
    "    bmi_score = weight / height_meter ** 2\n",
    "    \n",
    "    if (bmi_score < 18.5):\n",
    "        output = 'Score is ' + str(bmi_score) + '. You are Underweight.'\n",
    "    if (18.5 <= bmi_score <= 24.9):\n",
    "        output = 'Score is ' + str(bmi_score) + '. You are Normal.'\n",
    "    if (25 <= bmi_score <= 30):\n",
    "        output = 'Score is ' + str(bmi_score) + '. You are Overweight.'\n",
    "    if (bmi_score > 30):\n",
    "        output = 'Score is '+ str(bmi_score) + '. You are Obese.'\n",
    "        \n",
    "    print (output)\n",
    "    \n",
    "height = (int(input('Enter your height in cm: ')))\n",
    "weight = (int(input('Enter your weight in kg: ')))\n",
    "\n",
    "BMI(height, weight)"
   ]
  },
  {
   "cell_type": "code",
   "execution_count": 29,
   "id": "09a6923a",
   "metadata": {},
   "outputs": [
    {
     "name": "stdout",
     "output_type": "stream",
     "text": [
      "Enter the minimum value: 3\n",
      "Enter the maximum value : 16\n",
      "Enter the divisor: 3\n"
     ]
    },
    {
     "data": {
      "text/plain": [
       "45"
      ]
     },
     "execution_count": 29,
     "metadata": {},
     "output_type": "execute_result"
    }
   ],
   "source": [
    "#TASK_3\n",
    "\n",
    "def function(minimum, maximum, divisor):\n",
    "    total = 0  \n",
    "    \n",
    "    for i in range(minimum, maximum):\n",
    "        \n",
    "        if (i % divisor == 0):\n",
    "            #quotient = i\n",
    "            total += i\n",
    "            \n",
    "    return(total)\n",
    "\n",
    "minimum = int(input('Enter the minimum value: '))\n",
    "maximum = int(input('Enter the maximum value : '))\n",
    "divisor = int(input('Enter the divisor: '))\n",
    "\n",
    "function(minimum, maximum, divisor)"
   ]
  },
  {
   "cell_type": "code",
   "execution_count": 7,
   "id": "97f22853",
   "metadata": {},
   "outputs": [
    {
     "name": "stdout",
     "output_type": "stream",
     "text": [
      "Enter the name of the food: Beef Burger\n",
      "Enter the location: Dhanmondi\n",
      "243.6\n"
     ]
    }
   ],
   "source": [
    "#TASK_4\n",
    "\n",
    "def food_price(food, location = 'Mohakhali'):\n",
    "    dictionary = {'BBQ Chicken Cheese Burger': 250, 'Beef Burger': 170, 'Naga Drums': 200}\n",
    "    delivery_charge = 0\n",
    "    \n",
    "    if (location == 'Mohakhali'):\n",
    "        delivery_charge = 40\n",
    "    elif (location != 'Mohakhali'):\n",
    "        delivery_charge = 60\n",
    "        \n",
    "    meal_cost = dictionary[food]\n",
    "    tax = meal_cost * (8/100)\n",
    "    total_price = delivery_charge + meal_cost + tax\n",
    "    \n",
    "    print(total_price)\n",
    "    \n",
    "food = input('Enter the name of the food: ')\n",
    "location = input('Enter the location: ')\n",
    "\n",
    "food_price(food, location)"
   ]
  },
  {
   "cell_type": "code",
   "execution_count": 1,
   "id": "80f75f73",
   "metadata": {},
   "outputs": [
    {
     "name": "stdout",
     "output_type": "stream",
     "text": [
      "Enter your email address: alice@kaaj.com\n",
      "Enter your new domain: sheba.xyz\n",
      "Changed: alice@sheba.xyz\n"
     ]
    }
   ],
   "source": [
    "#TASK_5\n",
    "\n",
    "def replace_domain(email, new_domain, old_domain = 'kaaj.com'):\n",
    "    value = email.split('@')\n",
    "    \n",
    "    if new_domain in value:\n",
    "        print('Unchanged:', email)\n",
    "    elif old_domain in value:\n",
    "        new_value = value[0] + '@' + new_domain\n",
    "        print('Changed:', new_value)  \n",
    "    \n",
    "email = input('Enter your email address: ')\n",
    "new_domain = input('Enter your new domain: ')\n",
    "\n",
    "replace_domain(email, new_domain, old_domain = 'kaaj.com')"
   ]
  },
  {
   "cell_type": "code",
   "execution_count": 25,
   "id": "f5340051",
   "metadata": {},
   "outputs": [
    {
     "name": "stdout",
     "output_type": "stream",
     "text": [
      "Enter a name : XYZ\n",
      "No vowels in the name\n"
     ]
    }
   ],
   "source": [
    "#TASK_6\n",
    "\n",
    "def full_name(name):\n",
    "    vowels = ''\n",
    "    count = 0\n",
    "    output = []\n",
    "    \n",
    "    for i in name:\n",
    "        \n",
    "        if i in 'a''e''i''o''u''A''E''I''O''U': \n",
    "            output.append(i)\n",
    "            \n",
    "    if(len(output) == 0):\n",
    "        print('No vowels in the name')\n",
    "    else:\n",
    "        print('Vowels:', end = ' ')\n",
    "        \n",
    "        for i in range(len(output)):\n",
    "            \n",
    "            if (i == len(output) - 1):\n",
    "                print(output[i], end = '.')\n",
    "            else:\n",
    "                print(output[i], end = ',')\n",
    "                \n",
    "        print(' Total number of vowels:', len(output))\n",
    "\n",
    "name = input('Enter a name : ')\n",
    "full_name(name)"
   ]
  },
  {
   "cell_type": "code",
   "execution_count": 33,
   "id": "4408628d",
   "metadata": {},
   "outputs": [
    {
     "name": "stdout",
     "output_type": "stream",
     "text": [
      "Enter a string: madam\n",
      "Palindrome\n"
     ]
    }
   ],
   "source": [
    "#TASK_7\n",
    "\n",
    "def palindrome_check(string):\n",
    "    words = ''\n",
    "    \n",
    "    for i in string:\n",
    "        \n",
    "        if (i != ' '):\n",
    "            words = i + words\n",
    "            no_space = ''\n",
    "            \n",
    "    for i in string:\n",
    "        \n",
    "        if (i != ' '):\n",
    "            no_space += i\n",
    "            \n",
    "    if (words == no_space):\n",
    "        print('Palindrome')\n",
    "    else:\n",
    "        print('Not a palindrome')\n",
    "        \n",
    "string = input('Enter a string: ')\n",
    "\n",
    "palindrome_check(string)"
   ]
  },
  {
   "cell_type": "code",
   "execution_count": 34,
   "id": "e6b4996a",
   "metadata": {},
   "outputs": [
    {
     "name": "stdout",
     "output_type": "stream",
     "text": [
      "Enter the number of days: 4320\n",
      "11 years, 10 months and 5 days\n"
     ]
    }
   ],
   "source": [
    "#TASK_8\n",
    "\n",
    "def time_calculator(days_input):\n",
    "    \n",
    "    year = (days_input // 365)\n",
    "    remaining_time = (days_input % 365)\n",
    "    month = (remaining_time // 30)\n",
    "    day = (remaining_time % 30)\n",
    "    \n",
    "    print(year, 'years,', month, 'months and', day, 'days')\n",
    "    \n",
    "days_input = int(input('Enter the number of days: '))\n",
    "\n",
    "time_calculator(days_input)"
   ]
  },
  {
   "cell_type": "code",
   "execution_count": 47,
   "id": "3cc8e8f6",
   "metadata": {},
   "outputs": [
    {
     "name": "stdout",
     "output_type": "stream",
     "text": [
      "Enter the paragraph: my favourite animal is a dog. a dog has sharp teeth so that it can eat flesh very easily. do you know my pet dog’s name? i love my pet very much\n",
      "My favourite animal is a dog. A dog has sharp teeth so that it can eat flesh very easily. Do you know my pet dog’s name? I love my pet very much\n"
     ]
    }
   ],
   "source": [
    "#TASK_9\n",
    "\n",
    "def word(letter):\n",
    "    word = False\n",
    "    \n",
    "    if (letter >= 'A') and (letter <='Z') or (letter >= 'a') and (letter <= 'z'):\n",
    "        word = True \n",
    "    return word\n",
    "\n",
    "def capitalizing(paragraph):\n",
    "    count = 0\n",
    "    output = \"\"\n",
    "    \n",
    "    for index in range(len(paragraph)):\n",
    "        \n",
    "        if word(paragraph[index]):\n",
    "            count += 1\n",
    "        elif paragraph[index] in ('.''!''?'):\n",
    "            count = 0\n",
    "            \n",
    "        if (count == 1) and word(paragraph[index]):\n",
    "            \n",
    "            if (paragraph[index] >= 'A') and (paragraph[index] <= 'Z'):\n",
    "                output += paragraph[index]\n",
    "            elif (paragraph[index] >= 'a') and (paragraph[index] <= 'z'):\n",
    "                output += (chr(ord(paragraph[index]) - 32))\n",
    "                \n",
    "        else:\n",
    "            output += paragraph[index]\n",
    "            \n",
    "    return output\n",
    "\n",
    "input_string = input('Enter the paragraph: ')\n",
    "\n",
    "print(capitalizing(input_string))"
   ]
  }
 ],
 "metadata": {
  "kernelspec": {
   "display_name": "Python 3",
   "language": "python",
   "name": "python3"
  },
  "language_info": {
   "codemirror_mode": {
    "name": "ipython",
    "version": 3
   },
   "file_extension": ".py",
   "mimetype": "text/x-python",
   "name": "python",
   "nbconvert_exporter": "python",
   "pygments_lexer": "ipython3",
   "version": "3.8.8"
  }
 },
 "nbformat": 4,
 "nbformat_minor": 5
}
