{
  "cells": [
    {
      "cell_type": "markdown",
      "metadata": {
        "id": "view-in-github",
        "colab_type": "text"
      },
      "source": [
        "<a href=\"https://colab.research.google.com/github/AbrarAmiya/Object-Oriented-Programing/blob/main/Problems_01.ipynb\" target=\"_parent\"><img src=\"https://colab.research.google.com/assets/colab-badge.svg\" alt=\"Open In Colab\"/></a>"
      ]
    },
    {
      "cell_type": "code",
      "execution_count": null,
      "metadata": {
        "id": "fI-25Zbl_ISG",
        "outputId": "abdd2cdd-0bac-40ae-e9b1-9a2911681a41"
      },
      "outputs": [
        {
          "name": "stdout",
          "output_type": "stream",
          "text": [
            "0.5\n"
          ]
        }
      ],
      "source": [
        "#Question 1\n",
        "def fraction(num1, num2):\n",
        "    if num2 == 0:\n",
        "        return 0\n",
        "    else:\n",
        "\n",
        "        result = num1/num2\n",
        "        output = result-num2\n",
        "        return output\n",
        "\n",
        "\n",
        "print(fraction(5, 2))"
      ]
    },
    {
      "cell_type": "code",
      "execution_count": null,
      "metadata": {
        "id": "4xRFobs6_ISI",
        "outputId": "5c504f9b-9f89-4b0e-ee68-7bcd4c7943d0"
      },
      "outputs": [
        {
          "name": "stdout",
          "output_type": "stream",
          "text": [
            "Score is:  31.35. You are Obese\n"
          ]
        }
      ],
      "source": [
        "#Question 2\n",
        "def BMI(height, weight):\n",
        "    height_convert = height/100\n",
        "    height_convert = height_convert*height_convert\n",
        "    output = round(weight/height_convert, 2)\n",
        "    print('Score is: ', output, end='. ')\n",
        "    if output < 18.5:\n",
        "        print('You are Underweight')\n",
        "    elif 18.5 <= output <= 24.9:\n",
        "        print('You are Normal')\n",
        "    elif 25 <= output <= 30:\n",
        "        print('You are Overweight')\n",
        "    else:\n",
        "        print('You are Obese')\n",
        "\n",
        "\n",
        "(BMI(175, 96))"
      ]
    },
    {
      "cell_type": "code",
      "execution_count": null,
      "metadata": {
        "id": "WL-hZ2dO_ISJ",
        "outputId": "41c40350-b9f7-456c-c3f6-85de27cf1510"
      },
      "outputs": [
        {
          "name": "stdout",
          "output_type": "stream",
          "text": [
            "45\n"
          ]
        }
      ],
      "source": [
        "#Question 3\n",
        "def sum_divisor(minimum, maximum, divisor):\n",
        "    sum = 0\n",
        "    for i in range(minimum, maximum):\n",
        "        if i % divisor == 0:\n",
        "            sum += i\n",
        "    return sum\n",
        "\n",
        "\n",
        "print(sum_divisor(3, 16, 3))"
      ]
    },
    {
      "cell_type": "code",
      "execution_count": null,
      "metadata": {
        "id": "McYhhIrE_ISK",
        "outputId": "cc2e2107-97e5-4d10-cf22-4a2e27553c4a"
      },
      "outputs": [
        {
          "name": "stdout",
          "output_type": "stream",
          "text": [
            "243.6\n"
          ]
        }
      ],
      "source": [
        "#Question 4\n",
        "def bill(burger_name, place='mohakhali'):\n",
        "    menu = {\"BBQ Chicken Cheese Burger\": 250,\n",
        "            \"Beef Burger\": 170, \"Naga Drums\": 200}\n",
        "    total = 0\n",
        "    for item in menu:\n",
        "        if item == burger_name:\n",
        "            total = menu[item]\n",
        "    if place == 'mohakhali':\n",
        "        delivery_charge = 40\n",
        "    else:\n",
        "        delivery_charge = 60\n",
        "    tax = (total*8)/100\n",
        "    Total_Price = total+delivery_charge+tax\n",
        "    return Total_Price\n",
        "\n",
        "\n",
        "print(bill('Beef Burger', 'Dhanmondi'))"
      ]
    },
    {
      "cell_type": "code",
      "execution_count": null,
      "metadata": {
        "id": "R32UhUxj_ISK",
        "outputId": "a2d4efd3-b8d2-4ad5-c661-16adc2d319e0",
        "colab": {
          "base_uri": "https://localhost:8080/",
          "height": 35
        }
      },
      "outputs": [
        {
          "output_type": "execute_result",
          "data": {
            "text/plain": [
              "'bob@sheba.xyz'"
            ],
            "application/vnd.google.colaboratory.intrinsic+json": {
              "type": "string"
            }
          },
          "metadata": {},
          "execution_count": 3
        }
      ],
      "source": [
        "#Question 5\n",
        "def replace_domain(email, new_domain, old_domain='sheba.xyz'):\n",
        "    if old_domain != new_domain:\n",
        "        find_domain = email.find(old_domain)\n",
        "        print(find_domain)\n",
        "        newEmail = email[0:find_domain] + new_domain\n",
        "\n",
        "        return newEmail\n",
        "    else:\n",
        "        return email\n",
        "\n",
        "\n",
        "replace_domain('alice@kaaj.com', 'sheba.xyz', 'kaaj.com')\n"
      ]
    },
    {
      "cell_type": "code",
      "execution_count": null,
      "metadata": {
        "id": "1QXwzmAL_ISL",
        "outputId": "14dd7f50-3287-4075-8387-cd999666e2d1"
      },
      "outputs": [
        {
          "name": "stdout",
          "output_type": "stream",
          "text": [
            "Enter full name: steve jobs\n",
            "Vowels: e. e. o. Total number of vowels:  3\n"
          ]
        }
      ],
      "source": [
        "#Question 6\n",
        "def vowel_count(name):\n",
        "    vowel_counts = 0\n",
        "    for i in name:\n",
        "        if (i == 'a' or i == 'e' or i == 'i' or i == 'o' or i == 'u'):\n",
        "            vowel_counts += 1\n",
        "    if vowel_counts > 0:\n",
        "        print(\"Vowels: \", end='')\n",
        "        for vowel in name:\n",
        "            if vowel in 'aeiou':\n",
        "                print(vowel, end='. ')\n",
        "        print(\"Total number of vowels: \", vowel_counts)\n",
        "    else:\n",
        "        print('No vowels in the name')\n",
        "\n",
        "\n",
        "vowel_count(input('Enter full name: ').lower())"
      ]
    },
    {
      "cell_type": "code",
      "execution_count": null,
      "metadata": {
        "id": "jqQNMhSU_ISL",
        "outputId": "62a74527-2b5f-4746-ae72-ce658ee514fc"
      },
      "outputs": [
        {
          "name": "stdout",
          "output_type": "stream",
          "text": [
            "Enter: nurses run\n",
            "Palindrome\n"
          ]
        }
      ],
      "source": [
        "#Question 7\n",
        "def palindrome_check(str):\n",
        "    str1 = \"\"\n",
        "    for i in str:\n",
        "        str1 += i\n",
        "    if str1 == str:\n",
        "        print('Palindrome')\n",
        "    else:\n",
        "        print('Not a palindrome')\n",
        "\n",
        "\n",
        "str = input('Enter: ')\n",
        "rmv_space = str.strip()\n",
        "palindrome_check(rmv_space)"
      ]
    },
    {
      "cell_type": "code",
      "execution_count": null,
      "metadata": {
        "id": "zSSh5STb_ISM",
        "outputId": "ac61dd9d-e883-4a31-b6b6-3d436cc9add2"
      },
      "outputs": [
        {
          "name": "stdout",
          "output_type": "stream",
          "text": [
            "Number of days: 4320\n",
            "11 years ,10 months and 5 days.\n"
          ]
        }
      ],
      "source": [
        "#Question 8\n",
        "def calculate_time(time):\n",
        "    year = time // 365\n",
        "    time = time % 365\n",
        "    month = time // 30\n",
        "    time = time % 30\n",
        "    day = time\n",
        "    print(f\"{year} years ,{month} months and {day} days.\")\n",
        "\n",
        "\n",
        "calculate_time(int(input('Number of days: ')))"
      ]
    },
    {
      "cell_type": "code",
      "execution_count": null,
      "metadata": {
        "id": "J0C50Pxb_ISM",
        "outputId": "cb170a08-980b-488b-c681-687b292899ed"
      },
      "outputs": [
        {
          "name": "stdout",
          "output_type": "stream",
          "text": [
            "My favourite animal Is a dog. A dog has sharp teeth so that It can eat flesh very easily. Do you know my pet dog’s name? I love my pet very much.\n"
          ]
        }
      ],
      "source": [
        "#Question 9\n",
        "def capitalize_sentence(paragraph):\n",
        "    punctuation = '.?!'\n",
        "    result = []\n",
        "    i = 0\n",
        "    while i < len(paragraph):\n",
        "        letter = paragraph[i]\n",
        "        if i == 0:\n",
        "            result.append(letter.upper())\n",
        "        elif letter in punctuation:\n",
        "            result.append(letter)\n",
        "            while (not letter.isalpha()) and i < len(paragraph):\n",
        "                i += 1\n",
        "                try:\n",
        "                    letter = paragraph[i]\n",
        "                except IndexError:\n",
        "                    break\n",
        "                result.append(letter)\n",
        "            else:\n",
        "                result[-1] = result[-1].upper()\n",
        "        elif letter == 'i' and paragraph[i-1] == ' ' and paragraph[i+1] == ' ' or letter == 'i' and paragraph[i-1] == ' ':\n",
        "            result.append(letter.upper())\n",
        "        else:\n",
        "            result.append(letter)\n",
        "        i += 1\n",
        "    return ''.join(result)\n",
        "\n",
        "\n",
        "sentence = 'my favourite animal is a dog. a dog has sharp teeth so that it can eat flesh very easily. do you know my pet dog’s name? i love my pet very much.'\n",
        "\n",
        "print(capitalize_sentence(sentence))\n"
      ]
    },
    {
      "cell_type": "code",
      "execution_count": null,
      "metadata": {
        "id": "n6uvQvT1_ISN"
      },
      "outputs": [],
      "source": []
    }
  ],
  "metadata": {
    "kernelspec": {
      "display_name": "Python 3",
      "language": "python",
      "name": "python3"
    },
    "language_info": {
      "codemirror_mode": {
        "name": "ipython",
        "version": 3
      },
      "file_extension": ".py",
      "mimetype": "text/x-python",
      "name": "python",
      "nbconvert_exporter": "python",
      "pygments_lexer": "ipython3",
      "version": "3.8.5"
    },
    "colab": {
      "provenance": [],
      "include_colab_link": true
    }
  },
  "nbformat": 4,
  "nbformat_minor": 0
}